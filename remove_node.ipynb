{
 "cells": [
  {
   "cell_type": "code",
   "execution_count": 1,
   "metadata": {},
   "outputs": [],
   "source": [
    "class Node:\n",
    "    def __init__(self,data):\n",
    "        self.data = data\n",
    "        self.next = None"
   ]
  },
  {
   "cell_type": "code",
   "execution_count": 13,
   "metadata": {},
   "outputs": [],
   "source": [
    "class CircularList:\n",
    "    def __init__(self):\n",
    "        self.head = None\n",
    "        \n",
    "    def append(self,data):\n",
    "        if not self.head:\n",
    "            self.head = Node(data)\n",
    "            self.head.next = self.head\n",
    "        else:\n",
    "            newnode = Node(data)\n",
    "            curnode = self.head\n",
    "            while curnode.next!=self.head:\n",
    "                curnode = curnode.next\n",
    "            curnode.next = newnode\n",
    "            newnode.next = self.head      \n",
    "            \n",
    "    def prepend(self,data):\n",
    "        newnode = Node(data)\n",
    "        curnode = self.head\n",
    "        newnode.next = self.head\n",
    "        if not self.head:\n",
    "            newnode.next = newnode\n",
    "        else:\n",
    "            while curnode.next!=self.head:\n",
    "                curnode = curnode.next\n",
    "            curnode.next = newnode\n",
    "        self.head = newnode\n",
    "        \n",
    "    def print_list(self):\n",
    "        curnode = self.head\n",
    "        while curnode:\n",
    "            print(curnode.data)\n",
    "            curnode = curnode.next\n",
    "            if curnode == self.head:\n",
    "                break\n",
    "                \n",
    "    def remove_node(self,key):\n",
    "        if self.head.data == key:\n",
    "            curnode = self.head\n",
    "            while curnode.next!=self.head:\n",
    "                curnode = curnode.next\n",
    "            curnode.next = self.head.next\n",
    "            self.head = self.head.next\n",
    "        else:\n",
    "            curnode = self.head\n",
    "            prev = None\n",
    "            while curnode.next!=self.head:\n",
    "                prev = curnode\n",
    "                curnode = curnode.next\n",
    "                if curnode.data == key:\n",
    "                    prev.next = curnode.next\n",
    "                    curnode = curnode.next"
   ]
  },
  {
   "cell_type": "code",
   "execution_count": 14,
   "metadata": {},
   "outputs": [],
   "source": [
    "clist = CircularList()"
   ]
  },
  {
   "cell_type": "code",
   "execution_count": 15,
   "metadata": {},
   "outputs": [],
   "source": [
    "clist.append(\"A\")\n",
    "clist.append(\"B\")\n",
    "clist.append(\"C\")\n",
    "clist.append(\"D\")\n",
    "\n"
   ]
  },
  {
   "cell_type": "code",
   "execution_count": 16,
   "metadata": {},
   "outputs": [],
   "source": [
    "clist.remove_node(\"B\")"
   ]
  },
  {
   "cell_type": "code",
   "execution_count": 17,
   "metadata": {},
   "outputs": [
    {
     "name": "stdout",
     "output_type": "stream",
     "text": [
      "A\n",
      "C\n",
      "D\n"
     ]
    }
   ],
   "source": [
    "clist.print_list()"
   ]
  },
  {
   "cell_type": "code",
   "execution_count": 18,
   "metadata": {},
   "outputs": [],
   "source": [
    "clist.remove_node(\"A\")"
   ]
  },
  {
   "cell_type": "code",
   "execution_count": 19,
   "metadata": {},
   "outputs": [
    {
     "name": "stdout",
     "output_type": "stream",
     "text": [
      "C\n",
      "D\n"
     ]
    }
   ],
   "source": [
    "clist.print_list()"
   ]
  },
  {
   "cell_type": "code",
   "execution_count": null,
   "metadata": {},
   "outputs": [],
   "source": []
  }
 ],
 "metadata": {
  "kernelspec": {
   "display_name": "Python 3",
   "language": "python",
   "name": "python3"
  },
  "language_info": {
   "codemirror_mode": {
    "name": "ipython",
    "version": 3
   },
   "file_extension": ".py",
   "mimetype": "text/x-python",
   "name": "python",
   "nbconvert_exporter": "python",
   "pygments_lexer": "ipython3",
   "version": "3.6.8"
  }
 },
 "nbformat": 4,
 "nbformat_minor": 4
}
