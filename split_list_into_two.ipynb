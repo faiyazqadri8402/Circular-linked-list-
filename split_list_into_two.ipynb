{
 "cells": [
  {
   "cell_type": "code",
   "execution_count": 1,
   "metadata": {},
   "outputs": [],
   "source": [
    "class Node:\n",
    "    def __init__(self,data):\n",
    "        self.data = data\n",
    "        self.next = None"
   ]
  },
  {
   "cell_type": "code",
   "execution_count": 28,
   "metadata": {},
   "outputs": [],
   "source": [
    "class CircularList:\n",
    "    def __init__(self):\n",
    "        self.head = None\n",
    "        \n",
    "    def append(self,data):\n",
    "        if not self.head:\n",
    "            self.head = Node(data)\n",
    "            self.head.next = self.head\n",
    "        else:\n",
    "            newnode = Node(data)\n",
    "            curnode = self.head\n",
    "            while curnode.next!=self.head:\n",
    "                curnode = curnode.next\n",
    "            curnode.next = newnode\n",
    "            newnode.next = self.head      \n",
    "            \n",
    "    def prepend(self,data):\n",
    "        newnode = Node(data)\n",
    "        curnode = self.head\n",
    "        newnode.next = self.head\n",
    "        if not self.head:\n",
    "            newnode.next = newnode\n",
    "        else:\n",
    "            while curnode.next!=self.head:\n",
    "                curnode = curnode.next\n",
    "            curnode.next = newnode\n",
    "        self.head = newnode\n",
    "        \n",
    "    def print_list(self):\n",
    "        curnode = self.head\n",
    "        while curnode:\n",
    "            print(curnode.data)\n",
    "            curnode = curnode.next\n",
    "            if curnode == self.head:\n",
    "                break\n",
    "                \n",
    "    def remove_node(self,key):\n",
    "        if self.head.data == key:\n",
    "            curnode = self.head\n",
    "            while curnode.next!=self.head:\n",
    "                curnode = curnode.next\n",
    "            curnode.next = self.head.next\n",
    "            self.head = self.head.next\n",
    "        else:\n",
    "            curnode = self.head\n",
    "            prev = None\n",
    "            while curnode.next!=self.head:\n",
    "                prev = curnode\n",
    "                curnode = curnode.next\n",
    "                if curnode.data == key:\n",
    "                    prev.next = curnode.next\n",
    "                    curnode = curnode.next\n",
    "                    \n",
    "    # -> B -> C -> D ...            \n",
    "    def __len__(self):\n",
    "        cur = self.head\n",
    "        count = 0\n",
    "        while cur:\n",
    "            count+=1\n",
    "            cur = cur.next\n",
    "            if cur == self.head:\n",
    "                break\n",
    "        return count\n",
    "    \n",
    "    def split_list(self):\n",
    "        size = len(self)\n",
    "        if size == 0:\n",
    "            return None\n",
    "        if size == 1:\n",
    "            return self.head\n",
    "        \n",
    "        mid = size//2\n",
    "        cur = self.head\n",
    "        prev = None\n",
    "        count = 0\n",
    "        while cur and count<mid:\n",
    "            count+=1\n",
    "            prev = cur\n",
    "            cur = cur.next\n",
    "        prev.next = self.head\n",
    "        \n",
    "        split_clist  = CircularList()\n",
    "        while cur.next!=self.head:\n",
    "            split_clist.append(cur.data)\n",
    "            cur = cur.next\n",
    "        split_clist.append(cur.data)\n",
    "        self.print_list()\n",
    "        print(\"\\n\")\n",
    "        split_clist.print_list()\n",
    "        \n",
    "        \n",
    "    def remove_node1(self,node):\n",
    "        if self.head== node:\n",
    "            curnode = self.head\n",
    "            while curnode.next!=self.head:\n",
    "                curnode = curnode.next\n",
    "            curnode.next = self.head.next\n",
    "            self.head = self.head.next\n",
    "        else:\n",
    "            curnode = self.head\n",
    "            prev = None\n",
    "            while curnode.next!=self.head:\n",
    "                prev = curnode\n",
    "                curnode = curnode.next\n",
    "                if curnode == node:\n",
    "                    prev.next = curnode.next\n",
    "                    curnode = curnode.next  \n",
    "                    \n",
    "    def josephus_circle(self,step):\n",
    "        cur = self.head\n",
    "        while len(self)>1:\n",
    "            count=1\n",
    "            while count!=step:\n",
    "                cur = cur.next\n",
    "                count+=1\n",
    "            print(\"Removed:\" + str(cur.data))\n",
    "            self.remove_node1(cur)\n",
    "            cur = cur.next\n",
    "            \n",
    "            \n",
    "    def is_circular(self,input_list):\n",
    "        cur = input_list.head\n",
    "        while cur.next:\n",
    "            cur = cur.next\n",
    "            if cur.next==input_list.head:\n",
    "                return True\n",
    "        return False\n",
    "        \n",
    "        \n",
    "            \n",
    "            \n",
    "        "
   ]
  },
  {
   "cell_type": "code",
   "execution_count": 29,
   "metadata": {},
   "outputs": [],
   "source": [
    "clist = CircularList()\n",
    "clist.append(\"1\")\n",
    "clist.append(\"2\")\n",
    "clist.append(\"3\")\n",
    "clist.append(\"4\")\n",
    "clist.append(\"5\")\n",
    "clist.append(\"6\")"
   ]
  },
  {
   "cell_type": "code",
   "execution_count": 19,
   "metadata": {},
   "outputs": [
    {
     "name": "stdout",
     "output_type": "stream",
     "text": [
      "6\n"
     ]
    }
   ],
   "source": [
    "print(len(clist))"
   ]
  },
  {
   "cell_type": "code",
   "execution_count": 20,
   "metadata": {},
   "outputs": [
    {
     "name": "stdout",
     "output_type": "stream",
     "text": [
      "A\n",
      "B\n",
      "C\n",
      "\n",
      "\n",
      "D\n",
      "E\n",
      "F\n"
     ]
    }
   ],
   "source": [
    "clist.split_list()"
   ]
  },
  {
   "cell_type": "code",
   "execution_count": 26,
   "metadata": {},
   "outputs": [],
   "source": [
    "clist.josephus_circle(2)"
   ]
  },
  {
   "cell_type": "code",
   "execution_count": 27,
   "metadata": {},
   "outputs": [
    {
     "name": "stdout",
     "output_type": "stream",
     "text": [
      "5\n"
     ]
    }
   ],
   "source": [
    "clist.print_list()"
   ]
  },
  {
   "cell_type": "code",
   "execution_count": 30,
   "metadata": {},
   "outputs": [
    {
     "data": {
      "text/plain": [
       "True"
      ]
     },
     "execution_count": 30,
     "metadata": {},
     "output_type": "execute_result"
    }
   ],
   "source": [
    "clist.is_circular(clist)"
   ]
  },
  {
   "cell_type": "code",
   "execution_count": null,
   "metadata": {},
   "outputs": [],
   "source": []
  }
 ],
 "metadata": {
  "kernelspec": {
   "display_name": "Python 3",
   "language": "python",
   "name": "python3"
  },
  "language_info": {
   "codemirror_mode": {
    "name": "ipython",
    "version": 3
   },
   "file_extension": ".py",
   "mimetype": "text/x-python",
   "name": "python",
   "nbconvert_exporter": "python",
   "pygments_lexer": "ipython3",
   "version": "3.6.8"
  }
 },
 "nbformat": 4,
 "nbformat_minor": 4
}
